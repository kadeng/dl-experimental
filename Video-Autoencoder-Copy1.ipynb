{
 "cells": [
  {
   "cell_type": "code",
   "execution_count": null,
   "metadata": {
    "collapsed": true
   },
   "outputs": [],
   "source": [
    "!apt-get install yasm"
   ]
  },
  {
   "cell_type": "markdown",
   "metadata": {},
   "source": [
    "Install ffmpeg and libavcodec-dev (plus related stuff) from\n",
    "https://launchpad.net/~mc3man/+archive/ubuntu/trusty-media\n",
    "\n",
    "Install OpenCV using the instructions from \n",
    "http://www.pyimagesearch.com/2015/06/22/install-opencv-3-0-and-python-2-7-on-ubuntu/\n",
    "\n",
    "In my case I had a build error related to missing CUDA libs, so the build command I used was\n",
    "\n",
    "    cmake -D CMAKE_BUILD_TYPE=RELEASE \\\n",
    "            -D CMAKE_INSTALL_PREFIX=/usr/local \\\n",
    "            -D INSTALL_C_EXAMPLES=OFF \\\n",
    "            -D INSTALL_PYTHON_EXAMPLES=ON \\\n",
    "            -D \"OPENCV_EXTRA_MODULES_PATH=../../opencv_contrib/modules\" \\\n",
    "            -D BUILD_EXAMPLES=ON \\\n",
    "            -D WITH_CUDA=OFF ..\n",
    "\n"
   ]
  },
  {
   "cell_type": "markdown",
   "metadata": {},
   "source": []
  },
  {
   "cell_type": "code",
   "execution_count": null,
   "metadata": {
    "collapsed": false
   },
   "outputs": [],
   "source": [
    "!pip install pytube"
   ]
  },
  {
   "cell_type": "code",
   "execution_count": 1,
   "metadata": {
    "collapsed": false
   },
   "outputs": [
    {
     "name": "stdout",
     "output_type": "stream",
     "text": [
      "mkdir: cannot create directory ‘videos’: File exists\r\n"
     ]
    }
   ],
   "source": [
    "!mkdir videos\n",
    "!mkdir imageseries"
   ]
  },
  {
   "cell_type": "code",
   "execution_count": null,
   "metadata": {
    "collapsed": false
   },
   "outputs": [],
   "source": [
    "from pytube import YouTube\n",
    "\n",
    "# not necessary, just for demo purposes.\n",
    "from pprint import pprint\n",
    "\n",
    "yt = YouTube(\"https://www.youtube.com/watch?v=yim23IFJOyQ\")\n",
    "\n",
    "yt.set_filename('Chimpanzees1')\n",
    "# Once set, you can see all the codec and quality options YouTube has made\n",
    "# available for the perticular video by printing videos.\n",
    "\n",
    "# pprint(yt.get_videos())"
   ]
  },
  {
   "cell_type": "code",
   "execution_count": null,
   "metadata": {
    "collapsed": true
   },
   "outputs": [],
   "source": [
    "video = yt.get('mp4', '360p')"
   ]
  },
  {
   "cell_type": "code",
   "execution_count": null,
   "metadata": {
    "collapsed": false
   },
   "outputs": [],
   "source": [
    "# In this case, we'll need to specify both the codec (mp4) and resolution\n",
    "# (either 360p or 720p).\n",
    "\n",
    "# Okay, let's download it!\n",
    "video = yt.get('mp4', '360p')\n",
    "video.download('./videos/')\n"
   ]
  },
  {
   "cell_type": "code",
   "execution_count": null,
   "metadata": {
    "collapsed": true
   },
   "outputs": [],
   "source": [
    "# Now let's try to read this using our fresh opencv build.."
   ]
  },
  {
   "cell_type": "code",
   "execution_count": 2,
   "metadata": {
    "collapsed": true
   },
   "outputs": [],
   "source": [
    "import cv2\n",
    "import h5py\n"
   ]
  },
  {
   "cell_type": "code",
   "execution_count": 3,
   "metadata": {
    "collapsed": true
   },
   "outputs": [],
   "source": [
    "from IPython.display import HTML, FileLink, display\n",
    "from base64 import b64encode\n",
    "def link_video(path):\n",
    "    src = FileLink(path)\n",
    "    video_tag = '<video controls alt=\"test\" src=\"%s\">' % (path)\n",
    "    \n",
    "    display(HTML(data=video_tag))\n"
   ]
  },
  {
   "cell_type": "code",
   "execution_count": 4,
   "metadata": {
    "collapsed": false
   },
   "outputs": [
    {
     "name": "stdout",
     "output_type": "stream",
     "text": [
      "Could read 1490 frames of shape (360, 640, 3) and dtype dtype('uint8')\n"
     ]
    }
   ],
   "source": [
    "vc = cv2.VideoCapture('videos/Chimpanzees1.mp4')\n",
    "frames = 0\n",
    "shape = None\n",
    "dtype = None\n",
    "while (True):\n",
    "    ret, img = vc.read()\n",
    "    # img should be an numpy ndarray of shape (width, heigth, channels)\n",
    "    if (not ret):\n",
    "        break\n",
    "    if (shape is None):\n",
    "        shape = img.shape\n",
    "    if (dtype is None):\n",
    "        dtype = img.dtype\n",
    "    frames+=1\n",
    "    \n",
    "print \"Could read %d frames of shape %r and dtype %r\" % (frames, shape, dtype)"
   ]
  },
  {
   "cell_type": "code",
   "execution_count": 5,
   "metadata": {
    "collapsed": false
   },
   "outputs": [],
   "source": [
    "import h5py\n",
    "\n",
    "h5f = h5py.File('videos/Chimpanzees1.hdf5', 'w')\n",
    "h5g = h5f.create_group('input')"
   ]
  },
  {
   "cell_type": "code",
   "execution_count": 6,
   "metadata": {
    "collapsed": true
   },
   "outputs": [],
   "source": [
    "import numpy as np"
   ]
  },
  {
   "cell_type": "code",
   "execution_count": 7,
   "metadata": {
    "collapsed": false
   },
   "outputs": [],
   "source": [
    "ishape = tuple([ frames ] + list(shape))\n",
    "ichunkshape = tuple([ 1 ] + list(shape))\n",
    "imaxshape = tuple([ None ] + list(shape))"
   ]
  },
  {
   "cell_type": "code",
   "execution_count": 10,
   "metadata": {
    "collapsed": true
   },
   "outputs": [],
   "source": [
    "from numpy.random import permutation\n"
   ]
  },
  {
   "cell_type": "code",
   "execution_count": 8,
   "metadata": {
    "collapsed": false
   },
   "outputs": [],
   "source": [
    "inframes = h5g.create_dataset('raw_hsl_frames', \n",
    "                             shape=ishape, dtype=np.float32, \n",
    "                             chunks=ichunkshape, maxshape=imaxshape,\n",
    "                             fletcher32=True, fillvalue=0)\n"
   ]
  },
  {
   "cell_type": "code",
   "execution_count": 11,
   "metadata": {
    "collapsed": false
   },
   "outputs": [],
   "source": [
    "permuted_indices = permutation(frames)"
   ]
  },
  {
   "cell_type": "code",
   "execution_count": 12,
   "metadata": {
    "collapsed": false
   },
   "outputs": [
    {
     "name": "stdout",
     "output_type": "stream",
     "text": [
      "(360, 640, 3)\n"
     ]
    }
   ],
   "source": [
    "print shape"
   ]
  },
  {
   "cell_type": "code",
   "execution_count": 13,
   "metadata": {
    "collapsed": false
   },
   "outputs": [
    {
     "name": "stdout",
     "output_type": "stream",
     "text": [
      "Frame #50\n",
      "Frame #100\n",
      "Frame #150\n",
      "Frame #200\n",
      "Frame #250\n",
      "Frame #300\n",
      "Frame #350\n",
      "Frame #400\n",
      "Frame #450\n",
      "Frame #500\n",
      "Frame #550\n",
      "Frame #600\n",
      "Frame #650\n",
      "Frame #700\n",
      "Frame #750\n",
      "Frame #800\n",
      "Frame #850\n",
      "Frame #900\n",
      "Frame #950\n",
      "Frame #1000\n",
      "Frame #1050\n",
      "Frame #1100\n",
      "Frame #1150\n",
      "Frame #1200\n",
      "Frame #1250\n",
      "Frame #1300\n",
      "Frame #1350\n",
      "Frame #1400\n",
      "Frame #1450\n",
      "Read 1490 frames\n"
     ]
    }
   ],
   "source": [
    "vc = cv2.VideoCapture('videos/Chimpanzees1.mp4')\n",
    "frames = 0\n",
    "shape = None\n",
    "dtype = None\n",
    "while (True):\n",
    "    ret, img = vc.read()\n",
    "    if (not ret):\n",
    "        break\n",
    "    hsvimg = cv2.cvtColor(img, cv2.COLOR_BGR2HSV)\n",
    "    #print hsvimg.dtype\n",
    "    \n",
    "    hsvimgf = hsvimg.astype(np.float32) / 255.0\n",
    "    # img should be an numpy ndarray of shape (width, heigth, channels)\n",
    "    inframes[permuted_indices[frames],:,:,:] = hsvimgf\n",
    "    \n",
    "    hsvimg2 = (inframes[permuted_indices[frames],:,:,:] * 255.0).astype(np.uint8)\n",
    "    \n",
    "    #print np.sum(hsvimg-hsvimg2)\n",
    "    #bgrimg = cv2.cvtColor(hsvimg2, cv2.COLOR_HSV2BGR)\n",
    "    #print np.sum(img-bgrimg)\n",
    "    \n",
    "    #cv2.imwrite(\"videos/recoded1_%05d.png\" % (frames), bgrimg)\n",
    "    \n",
    "    frames+=1\n",
    "    if (frames % 50==0):\n",
    "        print \"Frame #%d\" % (frames)\n",
    "print \"Read %d frames\" % (frames)\n"
   ]
  },
  {
   "cell_type": "code",
   "execution_count": null,
   "metadata": {
    "collapsed": false
   },
   "outputs": [],
   "source": [
    "inframes.shape"
   ]
  },
  {
   "cell_type": "code",
   "execution_count": 14,
   "metadata": {
    "collapsed": false
   },
   "outputs": [
    {
     "name": "stdout",
     "output_type": "stream",
     "text": [
      "3,9G videos/Chimpanzees1.hdf5\r\n"
     ]
    }
   ],
   "source": [
    "ls -hs videos/Chimpanzees1.hdf5"
   ]
  },
  {
   "cell_type": "code",
   "execution_count": 15,
   "metadata": {
    "collapsed": true
   },
   "outputs": [],
   "source": [
    "import numpy as np"
   ]
  },
  {
   "cell_type": "code",
   "execution_count": 16,
   "metadata": {
    "collapsed": true
   },
   "outputs": [],
   "source": [
    "rm -rf videos/Chimpanzee1RegionTest_*"
   ]
  },
  {
   "cell_type": "code",
   "execution_count": 17,
   "metadata": {
    "collapsed": false
   },
   "outputs": [
    {
     "name": "stdout",
     "output_type": "stream",
     "text": [
      "ffmpeg version N-77455-g4707497 Copyright (c) 2000-2015 the FFmpeg developers\n",
      "  built with gcc 4.8 (Ubuntu 4.8.4-2ubuntu1~14.04)\n",
      "  configuration: --extra-libs=-ldl --prefix=/opt/ffmpeg --mandir=/usr/share/man --enable-avresample --disable-debug --enable-nonfree --enable-gpl --enable-version3 --enable-libopencore-amrnb --enable-libopencore-amrwb --disable-decoder=amrnb --disable-decoder=amrwb --enable-libpulse --enable-libdcadec --enable-libfreetype --enable-libx264 --enable-libx265 --enable-libfdk-aac --enable-libvorbis --enable-libmp3lame --enable-libopus --enable-libvpx --enable-libspeex --enable-libass --enable-avisynth --enable-libsoxr --enable-libxvid --enable-libvo-aacenc --enable-libvidstab\n",
      "  libavutil      55. 11.100 / 55. 11.100\n",
      "  libavcodec     57. 20.100 / 57. 20.100\n",
      "  libavformat    57. 20.100 / 57. 20.100\n",
      "  libavdevice    57.  0.100 / 57.  0.100\n",
      "  libavfilter     6. 21.101 /  6. 21.101\n",
      "  libavresample   3.  0.  0 /  3.  0.  0\n",
      "  libswscale      4.  0.100 /  4.  0.100\n",
      "  libswresample   2.  0.101 /  2.  0.101\n",
      "  libpostproc    54.  0.100 / 54.  0.100\n",
      "Input #0, mov,mp4,m4a,3gp,3g2,mj2, from 'videos/Chimpanzees1.mp4':\n",
      "  Metadata:\n",
      "    major_brand     : mp42\n",
      "    minor_version   : 0\n",
      "    compatible_brands: isommp42\n",
      "    creation_time   : 2013-12-01 18:52:47\n",
      "  Duration: 00:00:59.61, start: 0.000000, bitrate: 738 kb/s\n",
      "    Stream #0:0(und): Video: h264 (Constrained Baseline) (avc1 / 0x31637661), yuv420p, 640x360, 639 kb/s, 25 fps, 25 tbr, 50 tbn, 50 tbc (default)\n",
      "    Metadata:\n",
      "      handler_name    : VideoHandler\n",
      "    Stream #0:1(und): Audio: aac (LC) (mp4a / 0x6134706D), 44100 Hz, stereo, fltp, 96 kb/s (default)\n",
      "    Metadata:\n",
      "      creation_time   : 2013-12-01 18:52:47\n",
      "      handler_name    : IsoMedia File Produced by Google, 5-11-2011\n",
      "Output #0, image2, to 'imageseries/Chimpanzees1_%05d.png':\n",
      "  Metadata:\n",
      "    major_brand     : mp42\n",
      "    minor_version   : 0\n",
      "    compatible_brands: isommp42\n",
      "    encoder         : Lavf57.20.100\n",
      "    Stream #0:0(und): Video: png, rgb24, 640x360, q=2-31, 200 kb/s, 6 fps, 6 tbn, 6 tbc (default)\n",
      "    Metadata:\n",
      "      handler_name    : VideoHandler\n",
      "      encoder         : Lavc57.20.100 png\n",
      "Stream mapping:\n",
      "  Stream #0:0 -> #0:0 (h264 (native) -> png (native))\n",
      "Press [q] to stop, [?] for help\n",
      "frame=  359 fps= 22 q=-0.0 Lsize=N/A time=00:00:59.83 bitrate=N/A dup=0 drop=1131 speed=3.74x    \n",
      "video:169379kB audio:0kB subtitle:0kB other streams:0kB global headers:0kB muxing overhead: unknown\n"
     ]
    }
   ],
   "source": [
    "!rm videos/imageseries*.png\n",
    "!ffmpeg -i videos/Chimpanzees1.mp4 -r 6 -f image2 imageseries/Chimpanzees1_%05d.png"
   ]
  },
  {
   "cell_type": "code",
   "execution_count": 19,
   "metadata": {
    "collapsed": false
   },
   "outputs": [
    {
     "name": "stdout",
     "output_type": "stream",
     "text": [
      "Chimpanzees1\t\t\t    Chimpanzees1.webm\r\n",
      "Chimpanzees1.avi\t\t    Chimpanzees2.mp4\r\n",
      "Chimpanzees1.hdf5\t\t    frames\r\n",
      "Chimpanzees1.mp4\t\t    testX.avi\r\n",
      "Chimpanzees1_recoded.mp4\t    testX.mp4\r\n",
      "Chimpanzees1_reconstruction2.mp4    TestX.mp4\r\n",
      "Chimpanzees1_reconstruction3.mp4    writer_test4.mp4\r\n",
      "Chimpanzees1_reconstruction4.mp4    writer_test5.mp4\r\n",
      "Chimpanzees1_reconstruction5.mp4    writer_test6.mp4\r\n",
      "Chimpanzees1RegionTest_recoded.mp4  writer_test7.mp4\r\n"
     ]
    }
   ],
   "source": [
    "!rm videos/*.png\n",
    "!ls videos"
   ]
  },
  {
   "cell_type": "code",
   "execution_count": 20,
   "metadata": {
    "collapsed": false
   },
   "outputs": [
    {
     "name": "stdout",
     "output_type": "stream",
     "text": [
      "ffmpeg version N-77455-g4707497 Copyright (c) 2000-2015 the FFmpeg developers\n",
      "  built with gcc 4.8 (Ubuntu 4.8.4-2ubuntu1~14.04)\n",
      "  configuration: --extra-libs=-ldl --prefix=/opt/ffmpeg --mandir=/usr/share/man --enable-avresample --disable-debug --enable-nonfree --enable-gpl --enable-version3 --enable-libopencore-amrnb --enable-libopencore-amrwb --disable-decoder=amrnb --disable-decoder=amrwb --enable-libpulse --enable-libdcadec --enable-libfreetype --enable-libx264 --enable-libx265 --enable-libfdk-aac --enable-libvorbis --enable-libmp3lame --enable-libopus --enable-libvpx --enable-libspeex --enable-libass --enable-avisynth --enable-libsoxr --enable-libxvid --enable-libvo-aacenc --enable-libvidstab\n",
      "  libavutil      55. 11.100 / 55. 11.100\n",
      "  libavcodec     57. 20.100 / 57. 20.100\n",
      "  libavformat    57. 20.100 / 57. 20.100\n",
      "  libavdevice    57.  0.100 / 57.  0.100\n",
      "  libavfilter     6. 21.101 /  6. 21.101\n",
      "  libavresample   3.  0.  0 /  3.  0.  0\n",
      "  libswscale      4.  0.100 /  4.  0.100\n",
      "  libswresample   2.  0.101 /  2.  0.101\n",
      "  libpostproc    54.  0.100 / 54.  0.100\n",
      "Input #0, image2, from 'imageseries/Chimpanzees1_%05d.png':\n",
      "  Duration: 00:00:14.36, start: 0.000000, bitrate: N/A\n",
      "    Stream #0:0: Video: png, rgb24(pc), 640x360, 25 fps, 25 tbr, 25 tbn, 25 tbc\n",
      "\u001b[0;33mPlease use -b:a or -b:v, -b is ambiguous\n",
      "\u001b[0m\u001b[0;33mNo pixel format specified, yuv444p for H.264 encoding chosen.\n",
      "Use -pix_fmt yuv420p for compatibility with outdated media players.\n",
      "\u001b[0m\u001b[1;36m[libx264 @ 0x2480c20] \u001b[0musing cpu capabilities: MMX2 SSE2Fast SSSE3 SSE4.2 AVX\n",
      "\u001b[1;36m[libx264 @ 0x2480c20] \u001b[0mprofile High 4:4:4 Predictive, level 2.2, 4:4:4 8-bit\n",
      "\u001b[1;36m[libx264 @ 0x2480c20] \u001b[0m264 - core 142 r2491 24e4fed - H.264/MPEG-4 AVC codec - Copyleft 2003-2014 - http://www.videolan.org/x264.html - options: cabac=1 ref=3 deblock=1:0:0 analyse=0x3:0x113 me=hex subme=7 psy=1 psy_rd=1.00:0.00 mixed_ref=1 me_range=16 chroma_me=1 trellis=1 8x8dct=1 cqm=0 deadzone=21,11 fast_pskip=1 chroma_qp_offset=4 threads=6 lookahead_threads=1 sliced_threads=0 nr=0 decimate=1 interlaced=0 bluray_compat=0 constrained_intra=0 bframes=3 b_pyramid=2 b_adapt=1 b_bias=0 direct=1 weightb=1 open_gop=0 weightp=2 keyint=250 keyint_min=10 scenecut=40 intra_refresh=0 rc_lookahead=40 rc=abr mbtree=1 bitrate=400 ratetol=1.0 qcomp=0.60 qpmin=0 qpmax=69 qpstep=4 ip_ratio=1.40 aq=1:1.00\n",
      "Output #0, mp4, to 'videos/Chimpanzees1_recoded.mp4':\n",
      "  Metadata:\n",
      "    encoder         : Lavf57.20.100\n",
      "    Stream #0:0: Video: h264 (libx264) ([33][0][0][0] / 0x0021), yuv444p, 640x360, q=-1--1, 400 kb/s, 10 fps, 10240 tbn, 10 tbc\n",
      "    Metadata:\n",
      "      encoder         : Lavc57.20.100 libx264\n",
      "    Side data:\n",
      "      \u001b[0;33munknown side data type 10 (24 bytes)\u001b[0m\n",
      "Stream mapping:\n",
      "  Stream #0:0 -> #0:0 (png (native) -> h264 (libx264))\n",
      "Press [q] to stop, [?] for help\n",
      "frame=  145 fps= 40 q=-1.0 Lsize=     840kB time=00:00:14.30 bitrate= 481.1kbits/s dup=0 drop=214 speed=3.93x    \n",
      "video:838kB audio:0kB subtitle:0kB other streams:0kB global headers:0kB muxing overhead: 0.245868%\n",
      "\u001b[1;36m[libx264 @ 0x2480c20] \u001b[0mframe I:8     Avg QP:31.67  size: 14692\n",
      "\u001b[1;36m[libx264 @ 0x2480c20] \u001b[0mframe P:100   Avg QP:36.11  size:  6470\n",
      "\u001b[1;36m[libx264 @ 0x2480c20] \u001b[0mframe B:37    Avg QP:37.26  size:  2501\n",
      "\u001b[1;36m[libx264 @ 0x2480c20] \u001b[0mconsecutive B-frames: 49.0% 51.0%  0.0%  0.0%\n",
      "\u001b[1;36m[libx264 @ 0x2480c20] \u001b[0mmb I  I16..4: 11.4% 67.4% 21.2%\n",
      "\u001b[1;36m[libx264 @ 0x2480c20] \u001b[0mmb P  I16..4:  9.6% 38.2%  5.3%  P16..4: 23.4%  7.9%  3.7%  0.0%  0.0%    skip:11.8%\n",
      "\u001b[1;36m[libx264 @ 0x2480c20] \u001b[0mmb B  I16..4:  0.2%  2.0%  0.7%  B16..8: 38.3%  8.0%  1.9%  direct: 3.1%  skip:45.8%  L0:38.2% L1:55.4% BI: 6.4%\n",
      "\u001b[1;36m[libx264 @ 0x2480c20] \u001b[0mfinal ratefactor: 34.15\n",
      "\u001b[1;36m[libx264 @ 0x2480c20] \u001b[0m8x8 transform intra:71.4% inter:72.7%\n",
      "\u001b[1;36m[libx264 @ 0x2480c20] \u001b[0mcoded y,u,v intra: 58.5% 31.2% 10.9% inter: 22.3% 9.9% 2.9%\n",
      "\u001b[1;36m[libx264 @ 0x2480c20] \u001b[0mi16 v,h,dc,p: 28% 28% 13% 31%\n",
      "\u001b[1;36m[libx264 @ 0x2480c20] \u001b[0mi8 v,h,dc,ddl,ddr,vr,hd,vl,hu: 21% 18% 18%  6%  6%  7%  7%  8%  9%\n",
      "\u001b[1;36m[libx264 @ 0x2480c20] \u001b[0mi4 v,h,dc,ddl,ddr,vr,hd,vl,hu: 25% 15% 14%  7%  8%  9%  8%  7%  7%\n",
      "\u001b[1;36m[libx264 @ 0x2480c20] \u001b[0mWeighted P-Frames: Y:11.0% UV:8.0%\n",
      "\u001b[1;36m[libx264 @ 0x2480c20] \u001b[0mref P L0: 69.1% 15.2%  9.8%  5.6%  0.3%\n",
      "\u001b[1;36m[libx264 @ 0x2480c20] \u001b[0mref B L0: 92.7%  7.3%\n",
      "\u001b[1;36m[libx264 @ 0x2480c20] \u001b[0mkb/s:472.87\n"
     ]
    }
   ],
   "source": [
    "!rm videos/Chimpanzees1_recoded.mp4\n",
    "!ffmpeg -i imageseries/Chimpanzees1_%05d.png -b 512 -c:v libx264 -b:v 400k -r 10 -preset medium videos/Chimpanzees1_recoded.mp4"
   ]
  },
  {
   "cell_type": "code",
   "execution_count": 21,
   "metadata": {
    "collapsed": false
   },
   "outputs": [
    {
     "name": "stdout",
     "output_type": "stream",
     "text": [
      "5,3M -rw-rw-r-- 1 kailondenberg kailondenberg 5,3M Jan 12 01:23 videos/Chimpanzees1.mp4\r\n",
      "840K -rw-rw-r-- 1 kailondenberg kailondenberg 840K Jan 28 16:59 videos/Chimpanzees1_recoded.mp4\r\n",
      "2,8M -rw-rw-r-- 1 kailondenberg kailondenberg 2,8M Jan 28 11:58 videos/Chimpanzees1_reconstruction2.mp4\r\n",
      "3,4M -rw-rw-r-- 1 kailondenberg kailondenberg 3,4M Jan 28 13:37 videos/Chimpanzees1_reconstruction3.mp4\r\n",
      "3,9M -rw-rw-r-- 1 kailondenberg kailondenberg 3,9M Jan 28 13:54 videos/Chimpanzees1_reconstruction4.mp4\r\n",
      "3,8M -rw-rw-r-- 1 kailondenberg kailondenberg 3,8M Jan 28 15:17 videos/Chimpanzees1_reconstruction5.mp4\r\n",
      "760K -rw-rw-r-- 1 kailondenberg kailondenberg 758K Jan 25 22:17 videos/Chimpanzees1RegionTest_recoded.mp4\r\n"
     ]
    }
   ],
   "source": [
    "!ls -lahs videos/Chimpanzees1*.mp4"
   ]
  },
  {
   "cell_type": "code",
   "execution_count": 22,
   "metadata": {
    "collapsed": false
   },
   "outputs": [
    {
     "data": {
      "text/html": [
       "<video controls alt=\"test\" src=\"videos/Chimpanzees1_recoded.mp4\">"
      ],
      "text/plain": [
       "<IPython.core.display.HTML object>"
      ]
     },
     "metadata": {},
     "output_type": "display_data"
    }
   ],
   "source": [
    "link_video('videos/Chimpanzees1_recoded.mp4')"
   ]
  },
  {
   "cell_type": "code",
   "execution_count": 23,
   "metadata": {
    "collapsed": false
   },
   "outputs": [],
   "source": [
    "import os\n",
    "import h5py\n",
    "from glob import glob\n",
    "\n"
   ]
  },
  {
   "cell_type": "code",
   "execution_count": 24,
   "metadata": {
    "collapsed": false
   },
   "outputs": [
    {
     "name": "stdout",
     "output_type": "stream",
     "text": [
      "{\"epsilon\": 1e-07, \"floatx\": \"float32\", \"backend\": \"tensorflow\"}"
     ]
    }
   ],
   "source": [
    "!cat ~/.keras/keras.json"
   ]
  },
  {
   "cell_type": "markdown",
   "metadata": {},
   "source": [
    "\n",
    "Note:\n",
    "\n",
    "Read http://arxiv.org/pdf/1402.3337.pdf and use the ThresholdedReLu activation from http://keras.io/layers/advanced_activations/\n"
   ]
  },
  {
   "cell_type": "code",
   "execution_count": 25,
   "metadata": {
    "collapsed": false
   },
   "outputs": [
    {
     "name": "stderr",
     "output_type": "stream",
     "text": [
      "Using TensorFlow backend.\n"
     ]
    }
   ],
   "source": [
    "\n",
    "import numpy as np\n",
    "np.random.seed(1337)  # for reproducibility\n",
    "\n",
    "\n",
    "from keras.preprocessing import sequence\n",
    "from keras.models import Sequential\n",
    "from keras.layers.core import Dense, Dropout, Activation, Flatten, Reshape, Permute\n",
    "from keras.layers.advanced_activations import ThresholdedReLU\n",
    "from keras.layers.embeddings import Embedding\n",
    "from keras.layers.convolutional import Convolution2D, ZeroPadding2D\n",
    "from keras.datasets import imdb\n",
    "from keras.optimizers import SGD\n",
    "from keras.regularizers import l1,l2,l1l2\n",
    "from keras import backend as K"
   ]
  },
  {
   "cell_type": "raw",
   "metadata": {},
   "source": []
  },
  {
   "cell_type": "code",
   "execution_count": 26,
   "metadata": {
    "collapsed": true
   },
   "outputs": [],
   "source": [
    "import keras.layers.convolutional as kconv"
   ]
  },
  {
   "cell_type": "code",
   "execution_count": 27,
   "metadata": {
    "collapsed": false
   },
   "outputs": [
    {
     "name": "stdout",
     "output_type": "stream",
     "text": [
      "Build model...X\n",
      "691200\n",
      "(None, 22, 39, 30)\n",
      "(None, 22, 39, 16, 16, 3)\n",
      "(None, 22, 16, 39, 16, 3)\n",
      "(None, 360, 640, 3)\n",
      "(None, 360, 640, 3)\n"
     ]
    }
   ],
   "source": [
    "print 'Build model...X'\n",
    "\n",
    "num_feature_detectors=30\n",
    "tile_size=16\n",
    "receptive_field_size=24\n",
    "model = Sequential()\n",
    "model.add(Dropout(0.5, input_shape=ichunkshape[1:]))\n",
    "\n",
    "input_features = Convolution2D( name='encode_tiled_features', \n",
    "                        nb_filter=num_feature_detectors, nb_row=receptive_field_size,nb_col=receptive_field_size, \n",
    "                        subsample=(tile_size,tile_size), \n",
    "                        border_mode='valid', trainable=True,\n",
    "                        dim_ordering='tf' )\n",
    "\n",
    "\n",
    "print np.prod(ichunkshape[1:])\n",
    "model.add(input_features)\n",
    "\n",
    "print input_features.output_shape \n",
    "\n",
    "model.add(Activation('relu'))\n",
    "\n",
    "decoder = Convolution2D( name='decode_tiled_features', \n",
    "                        nb_filter=tile_size*tile_size*3, nb_row=1,nb_col=1, subsample=(1,1),\n",
    "                        border_mode='same', trainable=True,\n",
    "                        dim_ordering='tf')\n",
    "\n",
    "model.add(decoder)\n",
    "model.add(Reshape(tuple(list(decoder.output_shape[1:3]) + [tile_size, tile_size, 3])))\n",
    "print model.output_shape\n",
    "model.add(Permute((1,3,2,4,5)))\n",
    "\n",
    "print model.output_shape\n",
    "model.add(Reshape((model.output_shape[1]*model.output_shape[2],model.output_shape[3]*model.output_shape[4],model.output_shape[5])))\n",
    "\n",
    "model.add(ZeroPadding2D(((ichunkshape[1]-model.output_shape[1])/2, (ichunkshape[2]-model.output_shape[2])/2), \n",
    "                        dim_ordering='tf'))\n",
    "\n",
    "print model.output_shape\n",
    "def mean_abs_error_all(y_true, y_pred):\n",
    "    return K.mean(K.abs(y_pred - y_true), axis=None)\n",
    "\n",
    "\n",
    "\n",
    "print model.output_shape"
   ]
  },
  {
   "cell_type": "code",
   "execution_count": null,
   "metadata": {
    "collapsed": false
   },
   "outputs": [],
   "source": [
    "print np.mean(w1)\n",
    "print np.mean(w2)"
   ]
  },
  {
   "cell_type": "code",
   "execution_count": 182,
   "metadata": {
    "collapsed": true
   },
   "outputs": [],
   "source": [
    "opt = SGD(lr=0.02, momentum=0.6, decay=0.002, nesterov=True)"
   ]
  },
  {
   "cell_type": "code",
   "execution_count": 188,
   "metadata": {
    "collapsed": false
   },
   "outputs": [],
   "source": [
    "model.compile(optimizer='adam', loss=mean_abs_error_all, class_mode='binary')"
   ]
  },
  {
   "cell_type": "code",
   "execution_count": 192,
   "metadata": {
    "collapsed": false
   },
   "outputs": [
    {
     "name": "stdout",
     "output_type": "stream",
     "text": [
      "Over-Epoch 0\n",
      "Epoch 1/8\n",
      "304/300 [==============================] - 25s - loss: 0.0684 - val_loss: 0.0643\n",
      "Epoch 2/8\n",
      "304/300 [==============================] - 25s - loss: 0.0675 - val_loss: 0.0637\n",
      "Epoch 3/8\n",
      "304/300 [==============================] - 25s - loss: 0.0667 - val_loss: 0.0632\n",
      "Epoch 4/8\n",
      "304/300 [==============================] - 25s - loss: 0.0668 - val_loss: 0.0634\n",
      "Epoch 5/8\n",
      "304/300 [==============================] - 24s - loss: 0.0669 - val_loss: 0.0641\n",
      "Epoch 6/8\n",
      "304/300 [==============================] - 24s - loss: 0.0666 - val_loss: 0.0706\n",
      "Epoch 7/8\n",
      "304/300 [==============================] - 24s - loss: 0.0679 - val_loss: 0.0631\n",
      "Epoch 8/8\n",
      "304/300 [==============================] - 24s - loss: 0.0671 - val_loss: 0.0645\n"
     ]
    }
   ],
   "source": [
    "def data_generator(batchsize):\n",
    "    for i in range(10):\n",
    "        for j in permutation(1300):\n",
    "            bi = inframes[j:(j+batchsize),:,:,:]\n",
    "            yield bi,  bi\n",
    "    \n",
    "for i in range(1):\n",
    "    print \"Over-Epoch %i\" % (i)\n",
    "    model.fit_generator(data_generator(8), validation_data=(inframes[1400:1430], inframes[1400:1430]),\n",
    "              show_accuracy=False, nb_epoch=8, samples_per_epoch=300, nb_worker=1)"
   ]
  },
  {
   "cell_type": "code",
   "execution_count": null,
   "metadata": {
    "collapsed": false
   },
   "outputs": [],
   "source": [
    "for bi, ba in data_generator(2):\n",
    "    print bi.shape\n",
    "    print ba.shape"
   ]
  },
  {
   "cell_type": "code",
   "execution_count": null,
   "metadata": {
    "collapsed": false
   },
   "outputs": [],
   "source": [
    "predictions = model.predict(inframes[1:4], batch_size=4)"
   ]
  },
  {
   "cell_type": "code",
   "execution_count": null,
   "metadata": {
    "collapsed": true
   },
   "outputs": [],
   "source": [
    "reverse_permute = np.array(permuted_indices, dtype=np.int32)\n",
    "for i in range(frames):\n",
    "    reverse_permute[permuted_indices[i]]=i\n"
   ]
  },
  {
   "cell_type": "code",
   "execution_count": 197,
   "metadata": {
    "collapsed": false
   },
   "outputs": [
    {
     "name": "stdout",
     "output_type": "stream",
     "text": [
      "rm: cannot remove ‘videos/reco*.png’: No such file or directory\r\n"
     ]
    }
   ],
   "source": [
    "!rm videos/reco*.png"
   ]
  },
  {
   "cell_type": "code",
   "execution_count": 203,
   "metadata": {
    "collapsed": false
   },
   "outputs": [
    {
     "name": "stdout",
     "output_type": "stream",
     "text": [
      "Wrote image 10 - MSE: 0.059204\n",
      "Wrote image 20 - MSE: 0.057222\n",
      "Wrote image 30 - MSE: 0.058343\n",
      "Wrote image 40 - MSE: 0.059139\n",
      "Wrote image 50 - MSE: 0.059977\n",
      "Wrote image 60 - MSE: 0.060064\n",
      "Wrote image 70 - MSE: 0.058887\n",
      "Wrote image 80 - MSE: 0.059655\n",
      "Wrote image 90 - MSE: 0.058536\n",
      "Wrote image 100 - MSE: 0.055532\n",
      "Wrote image 110 - MSE: 0.055627\n",
      "Wrote image 120 - MSE: 0.055849\n",
      "Wrote image 130 - MSE: 0.054042\n",
      "Wrote image 140 - MSE: 0.056483\n",
      "Wrote image 150 - MSE: 0.058199\n",
      "Wrote image 160 - MSE: 0.059372\n",
      "Wrote image 170 - MSE: 0.059575\n",
      "Wrote image 180 - MSE: 0.060520\n",
      "Wrote image 190 - MSE: 0.060165\n",
      "Wrote image 200 - MSE: 0.060131\n",
      "Wrote image 210 - MSE: 0.060248\n",
      "Wrote image 220 - MSE: 0.060416\n",
      "Wrote image 230 - MSE: 0.059516\n",
      "Wrote image 240 - MSE: 0.059927\n",
      "Wrote image 250 - MSE: 0.059365\n",
      "Wrote image 260 - MSE: 0.058678\n",
      "Wrote image 270 - MSE: 0.058924\n",
      "Wrote image 280 - MSE: 0.059862\n",
      "Wrote image 290 - MSE: 0.059144\n",
      "Wrote image 300 - MSE: 0.059225\n",
      "Wrote image 310 - MSE: 0.059117\n",
      "Wrote image 320 - MSE: 0.058788\n",
      "Wrote image 330 - MSE: 0.058264\n",
      "Wrote image 340 - MSE: 0.057220\n",
      "Wrote image 350 - MSE: 0.056682\n",
      "Wrote image 360 - MSE: 0.057016\n",
      "Wrote image 370 - MSE: 0.057207\n",
      "Wrote image 380 - MSE: 0.056162\n",
      "Wrote image 390 - MSE: 0.055656\n",
      "Wrote image 400 - MSE: 0.056144\n",
      "Wrote image 410 - MSE: 0.058161\n",
      "Wrote image 420 - MSE: 0.057198\n",
      "Wrote image 430 - MSE: 0.056831\n",
      "Wrote image 440 - MSE: 0.053616\n",
      "Wrote image 450 - MSE: 0.054207\n",
      "Wrote image 460 - MSE: 0.056534\n",
      "Wrote image 470 - MSE: 0.056567\n",
      "Wrote image 480 - MSE: 0.055199\n",
      "Wrote image 490 - MSE: 0.053832\n",
      "Wrote image 500 - MSE: 0.051902\n",
      "Wrote image 510 - MSE: 0.054326\n",
      "Wrote image 520 - MSE: 0.055320\n",
      "Wrote image 530 - MSE: 0.057719\n",
      "Wrote image 540 - MSE: 0.067172\n",
      "Wrote image 550 - MSE: 0.065171\n",
      "Wrote image 560 - MSE: 0.069803\n",
      "Wrote image 570 - MSE: 0.054273\n",
      "Wrote image 580 - MSE: 0.044067\n",
      "Wrote image 590 - MSE: 0.044466\n",
      "Wrote image 600 - MSE: 0.043141\n",
      "Wrote image 610 - MSE: 0.040070\n",
      "Wrote image 620 - MSE: 0.035127\n",
      "Wrote image 630 - MSE: 0.034454\n",
      "Wrote image 640 - MSE: 0.033250\n",
      "Wrote image 650 - MSE: 0.012925\n",
      "Wrote image 660 - MSE: 0.013396\n",
      "Wrote image 670 - MSE: 0.015268\n",
      "Wrote image 680 - MSE: 0.015928\n",
      "Wrote image 690 - MSE: 0.016023\n",
      "Wrote image 700 - MSE: 0.016147\n",
      "Wrote image 710 - MSE: 0.017512\n",
      "Wrote image 720 - MSE: 0.019011\n",
      "Wrote image 730 - MSE: 0.020963\n",
      "Wrote image 740 - MSE: 0.022193\n",
      "Wrote image 750 - MSE: 0.029255\n",
      "Wrote image 760 - MSE: 0.029075\n",
      "Wrote image 770 - MSE: 0.030816\n",
      "Wrote image 780 - MSE: 0.026346\n",
      "Wrote image 790 - MSE: 0.017905\n",
      "Wrote image 800 - MSE: 0.125955\n",
      "Wrote image 810 - MSE: 0.021803\n",
      "Wrote image 820 - MSE: 0.023704\n",
      "Wrote image 830 - MSE: 0.007811\n",
      "Wrote image 840 - MSE: 0.017666\n",
      "Wrote image 850 - MSE: 0.017296\n",
      "Wrote image 860 - MSE: 0.017250\n",
      "Wrote image 870 - MSE: 0.021266\n",
      "Wrote image 880 - MSE: 0.025836\n",
      "Wrote image 890 - MSE: 0.037034\n",
      "Wrote image 900 - MSE: 0.065622\n",
      "Wrote image 910 - MSE: 0.059008\n",
      "Wrote image 920 - MSE: 0.039301\n",
      "Wrote image 930 - MSE: 0.032212\n",
      "Wrote image 940 - MSE: 0.033169\n",
      "Wrote image 950 - MSE: 0.028312\n",
      "Wrote image 960 - MSE: 0.028284\n",
      "Wrote image 970 - MSE: 0.029973\n",
      "Wrote image 980 - MSE: 0.027471\n",
      "Wrote image 990 - MSE: 0.025882\n",
      "Wrote image 1000 - MSE: 0.024763\n",
      "Wrote image 1010 - MSE: 0.025564\n",
      "Wrote image 1020 - MSE: 0.025551\n",
      "Wrote image 1030 - MSE: 0.021349\n",
      "Wrote image 1040 - MSE: 0.020635\n",
      "Wrote image 1050 - MSE: 0.021366\n",
      "Wrote image 1060 - MSE: 0.020805\n",
      "Wrote image 1070 - MSE: 0.016171\n",
      "Wrote image 1080 - MSE: 0.016585\n",
      "Wrote image 1090 - MSE: 0.018205\n",
      "Wrote image 1100 - MSE: 0.015223\n",
      "Wrote image 1110 - MSE: 0.015264\n",
      "Wrote image 1120 - MSE: 0.015992\n",
      "Wrote image 1130 - MSE: 0.019584\n",
      "Wrote image 1140 - MSE: 0.020242\n",
      "Wrote image 1150 - MSE: 0.021492\n",
      "Wrote image 1160 - MSE: 0.018691\n",
      "Wrote image 1170 - MSE: 0.019802\n",
      "Wrote image 1180 - MSE: 0.021791\n",
      "Wrote image 1190 - MSE: 0.020716\n",
      "Wrote image 1200 - MSE: 0.018546\n",
      "Wrote image 1210 - MSE: 0.019642\n",
      "Wrote image 1220 - MSE: 0.018867\n",
      "Wrote image 1230 - MSE: 0.012158\n",
      "Wrote image 1240 - MSE: 0.011392\n",
      "Wrote image 1250 - MSE: 0.020182\n",
      "Wrote image 1260 - MSE: 0.027259\n",
      "Wrote image 1270 - MSE: 0.019758\n",
      "Wrote image 1280 - MSE: 0.040257\n",
      "Wrote image 1290 - MSE: 0.032151\n",
      "Wrote image 1300 - MSE: 0.016994\n",
      "Wrote image 1310 - MSE: 0.017208\n",
      "Wrote image 1320 - MSE: 0.021170\n",
      "Wrote image 1330 - MSE: 0.022527\n",
      "Wrote image 1340 - MSE: 0.019563\n",
      "Wrote image 1350 - MSE: 0.019282\n",
      "Wrote image 1360 - MSE: 0.017825\n",
      "Wrote image 1370 - MSE: 0.008054\n",
      "Wrote image 1380 - MSE: 0.015109\n",
      "Wrote image 1390 - MSE: 0.024840\n",
      "Wrote image 1400 - MSE: 0.035349\n",
      "Wrote image 1410 - MSE: 0.033335\n",
      "Wrote image 1420 - MSE: 0.024942\n",
      "Wrote image 1430 - MSE: 0.024544\n",
      "Wrote image 1440 - MSE: 0.021722\n",
      "Wrote image 1450 - MSE: 0.020458\n",
      "Wrote image 1460 - MSE: 0.016997\n",
      "Wrote image 1470 - MSE: 0.011502\n",
      "Wrote image 1480 - MSE: 0.019243\n",
      "Wrote image 1490 - MSE: 0.024553\n"
     ]
    }
   ],
   "source": [
    "j = 0\n",
    "c = 0\n",
    "for i in permuted_indices:\n",
    "    \n",
    "    \n",
    "    #print np.sum(hsvimg-hsvimg2)\n",
    "    fframe = inframes[i,:,:,:]\n",
    "    frame = (fframe * 255.0).astype(np.uint8)\n",
    "    \n",
    "    bgrimg = cv2.cvtColor(frame, cv2.COLOR_HSV2BGR)\n",
    "    \n",
    "    pframe = model.predict(fframe[np.newaxis,:,:,:], batch_size=1)\n",
    "    #print mean_squared_error_all\n",
    "    piframe = (pframe[0,:,:,:]*255.0).astype(np.uint8)\n",
    "    rgbimg = cv2.cvtColor(piframe, cv2.COLOR_HSV2BGR)\n",
    "    \n",
    "    j+=1\n",
    "    c+=1\n",
    "    cv2.imwrite(\"videos/reconstruction1_%05d.png\" % (c), rgbimg)\n",
    "    \n",
    "    if (j==800):\n",
    "        for z in range(200):\n",
    "            pframe = model.predict(pframe, batch_size=1)\n",
    "            #print mean_squared_error_all\n",
    "            piframe = (pframe[0,:,:,:]*255.0).astype(np.uint8)\n",
    "            rgbimg = cv2.cvtColor(piframe, cv2.COLOR_HSV2BGR)\n",
    "            c+=1\n",
    "            cv2.imwrite(\"videos/reconstruction1_%05d.png\" % (c), rgbimg)\n",
    "    if (j % 10==0):\n",
    "        me = np.mean(np.square((bgrimg.astype(np.float32)/255.0)-(rgbimg.astype(np.float32)/255.0)))\n",
    "        print \"Wrote image %d - MSE: %f\" % (j, me)"
   ]
  },
  {
   "cell_type": "code",
   "execution_count": 208,
   "metadata": {
    "collapsed": false
   },
   "outputs": [
    {
     "name": "stdout",
     "output_type": "stream",
     "text": [
      "ffmpeg version N-77455-g4707497 Copyright (c) 2000-2015 the FFmpeg developers\n",
      "  built with gcc 4.8 (Ubuntu 4.8.4-2ubuntu1~14.04)\n",
      "  configuration: --extra-libs=-ldl --prefix=/opt/ffmpeg --mandir=/usr/share/man --enable-avresample --disable-debug --enable-nonfree --enable-gpl --enable-version3 --enable-libopencore-amrnb --enable-libopencore-amrwb --disable-decoder=amrnb --disable-decoder=amrwb --enable-libpulse --enable-libdcadec --enable-libfreetype --enable-libx264 --enable-libx265 --enable-libfdk-aac --enable-libvorbis --enable-libmp3lame --enable-libopus --enable-libvpx --enable-libspeex --enable-libass --enable-avisynth --enable-libsoxr --enable-libxvid --enable-libvo-aacenc --enable-libvidstab\n",
      "  libavutil      55. 11.100 / 55. 11.100\n",
      "  libavcodec     57. 20.100 / 57. 20.100\n",
      "  libavformat    57. 20.100 / 57. 20.100\n",
      "  libavdevice    57.  0.100 / 57.  0.100\n",
      "  libavfilter     6. 21.101 /  6. 21.101\n",
      "  libavresample   3.  0.  0 /  3.  0.  0\n",
      "  libswscale      4.  0.100 /  4.  0.100\n",
      "  libswresample   2.  0.101 /  2.  0.101\n",
      "  libpostproc    54.  0.100 / 54.  0.100\n",
      "Input #0, image2, from 'videos/reconstruction1_%05d.png':\n",
      "  Duration: 00:01:07.60, start: 0.000000, bitrate: N/A\n",
      "    Stream #0:0: Video: png, rgb24(pc), 640x360, 25 fps, 25 tbr, 25 tbn, 25 tbc\n",
      "\u001b[0;33mNo pixel format specified, yuv444p for H.264 encoding chosen.\n",
      "Use -pix_fmt yuv420p for compatibility with outdated media players.\n",
      "\u001b[0m\u001b[1;36m[libx264 @ 0x3d632e0] \u001b[0m\u001b[0;33mVBV maxrate unspecified, assuming CBR\n",
      "\u001b[0m\u001b[1;36m[libx264 @ 0x3d632e0] \u001b[0musing cpu capabilities: MMX2 SSE2Fast SSSE3 SSE4.2 AVX\n",
      "\u001b[1;36m[libx264 @ 0x3d632e0] \u001b[0mprofile High 4:4:4 Predictive, level 2.2, 4:4:4 8-bit\n",
      "\u001b[1;36m[libx264 @ 0x3d632e0] \u001b[0m264 - core 142 r2491 24e4fed - H.264/MPEG-4 AVC codec - Copyleft 2003-2014 - http://www.videolan.org/x264.html - options: cabac=1 ref=5 deblock=1:0:0 analyse=0x3:0x113 me=umh subme=8 psy=1 psy_rd=1.00:0.00 mixed_ref=1 me_range=16 chroma_me=1 trellis=1 8x8dct=1 cqm=0 deadzone=21,11 fast_pskip=1 chroma_qp_offset=4 threads=6 lookahead_threads=1 sliced_threads=0 nr=0 decimate=1 interlaced=0 bluray_compat=0 constrained_intra=0 bframes=3 b_pyramid=2 b_adapt=2 b_bias=0 direct=3 weightb=1 open_gop=0 weightp=2 keyint=250 keyint_min=10 scenecut=40 intra_refresh=0 rc_lookahead=50 rc=cbr mbtree=1 bitrate=500 ratetol=1.0 qcomp=0.60 qpmin=0 qpmax=69 qpstep=4 vbv_maxrate=500 vbv_bufsize=1000 nal_hrd=none filler=0 ip_ratio=1.40 aq=1:1.00\n",
      "Output #0, mp4, to 'videos/Chimpanzees1_reconstruction5.mp4':\n",
      "  Metadata:\n",
      "    encoder         : Lavf57.20.100\n",
      "    Stream #0:0: Video: h264 (libx264) ([33][0][0][0] / 0x0021), yuv444p, 640x360, q=-1--1, 500 kb/s, 10 fps, 10240 tbn, 10 tbc\n",
      "    Metadata:\n",
      "      encoder         : Lavc57.20.100 libx264\n",
      "    Side data:\n",
      "      \u001b[0;33munknown side data type 10 (24 bytes)\u001b[0m\n",
      "Stream mapping:\n",
      "  Stream #0:0 -> #0:0 (png (native) -> h264 (libx264))\n",
      "Press [q] to stop, [?] for help\n",
      "frame=  678 fps= 26 q=-1.0 Lsize=    3831kB time=00:01:07.60 bitrate= 464.2kbits/s dup=0 drop=1012 speed= 2.6x    \n",
      "video:3822kB audio:0kB subtitle:0kB other streams:0kB global headers:0kB muxing overhead: 0.228769%\n",
      "\u001b[1;36m[libx264 @ 0x3d632e0] \u001b[0mframe I:4     Avg QP:27.10  size: 15014\n",
      "\u001b[1;36m[libx264 @ 0x3d632e0] \u001b[0mframe P:222   Avg QP:32.39  size:  8408\n",
      "\u001b[1;36m[libx264 @ 0x3d632e0] \u001b[0mframe B:452   Avg QP:34.62  size:  4394\n",
      "\u001b[1;36m[libx264 @ 0x3d632e0] \u001b[0mconsecutive B-frames:  4.1% 10.0% 32.7% 53.1%\n",
      "\u001b[1;36m[libx264 @ 0x3d632e0] \u001b[0mmb I  I16..4:  8.2% 71.4% 20.5%\n",
      "\u001b[1;36m[libx264 @ 0x3d632e0] \u001b[0mmb P  I16..4: 10.3% 21.3%  3.4%  P16..4: 33.3% 17.9%  9.0%  0.0%  0.0%    skip: 4.8%\n",
      "\u001b[1;36m[libx264 @ 0x3d632e0] \u001b[0mmb B  I16..4:  0.9%  2.0%  0.4%  B16..8: 34.6% 11.6%  3.0%  direct:10.8%  skip:36.7%  L0:44.0% L1:49.7% BI: 6.3%\n",
      "\u001b[1;36m[libx264 @ 0x3d632e0] \u001b[0m8x8 transform intra:61.3% inter:59.7%\n",
      "\u001b[1;36m[libx264 @ 0x3d632e0] \u001b[0mdirect mvs  spatial:99.3% temporal:0.7%\n",
      "\u001b[1;36m[libx264 @ 0x3d632e0] \u001b[0mcoded y,u,v intra: 56.9% 26.3% 18.9% inter: 29.3% 9.7% 8.1%\n",
      "\u001b[1;36m[libx264 @ 0x3d632e0] \u001b[0mi16 v,h,dc,p: 17% 32%  4% 48%\n",
      "\u001b[1;36m[libx264 @ 0x3d632e0] \u001b[0mi8 v,h,dc,ddl,ddr,vr,hd,vl,hu:  9%  7%  5% 12% 13% 13% 15% 13% 12%\n",
      "\u001b[1;36m[libx264 @ 0x3d632e0] \u001b[0mi4 v,h,dc,ddl,ddr,vr,hd,vl,hu:  6% 10% 14% 10%  8%  8% 12% 11% 21%\n",
      "\u001b[1;36m[libx264 @ 0x3d632e0] \u001b[0mWeighted P-Frames: Y:5.4% UV:3.2%\n",
      "\u001b[1;36m[libx264 @ 0x3d632e0] \u001b[0mref P L0: 51.8%  9.5% 20.0%  8.8%  7.6%  2.2%  0.2%\n",
      "\u001b[1;36m[libx264 @ 0x3d632e0] \u001b[0mref B L0: 75.9% 15.1%  6.5%  2.5%\n",
      "\u001b[1;36m[libx264 @ 0x3d632e0] \u001b[0mref B L1: 94.1%  5.9%\n",
      "\u001b[1;36m[libx264 @ 0x3d632e0] \u001b[0mkb/s:461.69\n"
     ]
    }
   ],
   "source": [
    "!rm videos/Chimpanzees1_reconstruction5.mp4\n",
    "!ffmpeg -i videos/reconstruction1_%05d.png -codec:v libx264 -preset slow -b:v 500k -bufsize 1000k -r 10 videos/Chimpanzees1_reconstruction5.mp4\n",
    "#ffmpeg [input options] -i [input filename] -codec:v [video options] -codec:a [audio options] [output file options] [output filename]\n",
    "#!rm videos/reco*.png"
   ]
  },
  {
   "cell_type": "code",
   "execution_count": null,
   "metadata": {
    "collapsed": false
   },
   "outputs": [],
   "source": [
    "!ls -hs videos/*.mp4"
   ]
  },
  {
   "cell_type": "code",
   "execution_count": 209,
   "metadata": {
    "collapsed": false
   },
   "outputs": [
    {
     "data": {
      "text/html": [
       "<video controls alt=\"test\" src=\"videos/Chimpanzees1_reconstruction5.mp4\">"
      ],
      "text/plain": [
       "<IPython.core.display.HTML object>"
      ]
     },
     "metadata": {},
     "output_type": "display_data"
    }
   ],
   "source": [
    "link_video('videos/Chimpanzees1_reconstruction5.mp4')"
   ]
  }
 ],
 "metadata": {
  "kernelspec": {
   "display_name": "Python 2",
   "language": "python",
   "name": "python2"
  },
  "language_info": {
   "codemirror_mode": {
    "name": "ipython",
    "version": 2
   },
   "file_extension": ".py",
   "mimetype": "text/x-python",
   "name": "python",
   "nbconvert_exporter": "python",
   "pygments_lexer": "ipython2",
   "version": "2.7.6"
  }
 },
 "nbformat": 4,
 "nbformat_minor": 0
}
